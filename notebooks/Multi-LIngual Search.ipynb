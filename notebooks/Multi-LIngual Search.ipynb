{
 "cells": [
  {
   "cell_type": "markdown",
   "id": "205e8af9-ebba-4bea-8339-e6034e121a41",
   "metadata": {
    "tags": []
   },
   "source": [
    "## Install Requirements"
   ]
  },
  {
   "cell_type": "code",
   "execution_count": null,
   "id": "4c95485f-e6e8-45cb-8658-3c555959458d",
   "metadata": {},
   "outputs": [],
   "source": [
    "!pip install -q datasets qdrant_client==\"0.11.0\" cohere"
   ]
  },
  {
   "cell_type": "code",
   "execution_count": 48,
   "id": "05739223-a2f1-4389-a986-06da8a80170f",
   "metadata": {
    "tags": []
   },
   "outputs": [],
   "source": [
    "COHERE_API_KEY = \"COHERE_API_KEY\"\n",
    "QDRANT_API_KEY = \"QDRANT_API_KEY\"\n",
    "QDRANT_HOST = \"QDRANT_HOST\""
   ]
  },
  {
   "cell_type": "markdown",
   "id": "f783f346-4ad4-477d-8215-3c94a15f970c",
   "metadata": {},
   "source": [
    "## Imports"
   ]
  },
  {
   "cell_type": "code",
   "execution_count": 45,
   "id": "955f0bd0-800c-46b9-bcae-6225e61697b9",
   "metadata": {
    "tags": []
   },
   "outputs": [],
   "source": [
    "import os\n",
    "import cohere\n",
    "from qdrant_client import QdrantClient\n",
    "from qdrant_client import models\n",
    "from qdrant_client.http import models as rest"
   ]
  },
  {
   "cell_type": "code",
   "execution_count": 46,
   "id": "0d9df8e6-c5a4-4fb1-a7b1-218bd14a2ce4",
   "metadata": {
    "tags": []
   },
   "outputs": [],
   "source": [
    "# load environment variables\n",
    "# QDRANT_HOST = os.environ.get(\"QDRANT_HOST\")\n",
    "# QDRANT_API_KEY = os.environ.get(\"QDRANT_API_KEY\")\n",
    "# COHERE_API_KEY = os.environ.get(\"COHERE_API_KEY\")"
   ]
  },
  {
   "cell_type": "markdown",
   "id": "4dea78ae-ce4d-4851-9dce-b827750ff8d1",
   "metadata": {
    "tags": []
   },
   "source": [
    "## Create Cohere client and check embedding size"
   ]
  },
  {
   "cell_type": "code",
   "execution_count": 49,
   "id": "1abd3c5f-f8a3-4be5-a00b-761f3b705481",
   "metadata": {
    "tags": []
   },
   "outputs": [],
   "source": [
    "cohere_client = cohere.Client(COHERE_API_KEY)"
   ]
  },
  {
   "cell_type": "markdown",
   "id": "cb19443d-cd26-40a4-b88b-d97c562951f9",
   "metadata": {},
   "source": [
    "- Give a sample input and check size of the embedding returned by the model"
   ]
  },
  {
   "cell_type": "code",
   "execution_count": 21,
   "id": "4bce072e-2711-4b4f-b67c-22d2a73575bf",
   "metadata": {
    "tags": []
   },
   "outputs": [
    {
     "data": {
      "text/plain": [
       "768"
      ]
     },
     "execution_count": 21,
     "metadata": {},
     "output_type": "execute_result"
    }
   ],
   "source": [
    "embeddings = cohere_client.embed(\n",
    "    texts=[\"A test sentence\"],\n",
    "    model=\"multilingual-22-12\",\n",
    ")\n",
    "vector_size = len(embeddings.embeddings[0])\n",
    "vector_size"
   ]
  },
  {
   "cell_type": "markdown",
   "id": "0f585478-e6d0-4c05-bc8c-c8f8f3f0df08",
   "metadata": {
    "tags": []
   },
   "source": [
    "## Create Qdrant client & create a collection to store similar legal docs"
   ]
  },
  {
   "cell_type": "code",
   "execution_count": 53,
   "id": "c7009539-be4c-4284-a5db-ccdcab727281",
   "metadata": {
    "tags": []
   },
   "outputs": [],
   "source": [
    "qdrant_client = QdrantClient(\n",
    "    host=QDRANT_HOST, \n",
    "    prefer_grpc=True, \n",
    "    api_key=QDRANT_API_KEY,\n",
    ")"
   ]
  },
  {
   "cell_type": "code",
   "execution_count": 54,
   "id": "a89d3597-0a44-4191-8c0d-2a4a66826f13",
   "metadata": {
    "tags": []
   },
   "outputs": [
    {
     "data": {
      "text/plain": [
       "True"
      ]
     },
     "execution_count": 54,
     "metadata": {},
     "output_type": "execute_result"
    }
   ],
   "source": [
    "qdrant_client.recreate_collection(\n",
    "    collection_name=\"legal_qa\",\n",
    "    vectors_config=models.VectorParams(\n",
    "        size=vector_size, \n",
    "        distance=rest.Distance.COSINE\n",
    "    ),\n",
    ")"
   ]
  },
  {
   "cell_type": "markdown",
   "id": "88523a2a-90cb-4f57-a26f-ff96a42af17a",
   "metadata": {
    "tags": []
   },
   "source": [
    "## Load Terms of Service Dataset"
   ]
  },
  {
   "cell_type": "code",
   "execution_count": 50,
   "id": "c1a532da-05e5-408c-82f8-bc2c28476e63",
   "metadata": {
    "tags": []
   },
   "outputs": [
    {
     "name": "stderr",
     "output_type": "stream",
     "text": [
      "Found cached dataset json (/home/shivalika/.cache/huggingface/datasets/joelito___json/joelito--plain_english_contracts_summarization-25f5156f2d2d542c/0.0.0/0f7e3662623656454fcd2b650f34e886a7db4b9104504885bd462096cc7a9f51)\n"
     ]
    }
   ],
   "source": [
    "from datasets import load_dataset\n",
    "\n",
    "dataset = load_dataset(\"joelito/plain_english_contracts_summarization\", split='train')"
   ]
  },
  {
   "cell_type": "code",
   "execution_count": 33,
   "id": "2a5b5eee-789e-46cd-86a2-e997842a3d8d",
   "metadata": {
    "tags": []
   },
   "outputs": [
    {
     "data": {
      "text/plain": [
       "446"
      ]
     },
     "execution_count": 33,
     "metadata": {},
     "output_type": "execute_result"
    }
   ],
   "source": [
    "len(dataset)"
   ]
  },
  {
   "cell_type": "code",
   "execution_count": 34,
   "id": "c755b77a-b199-4b82-acdc-9954715b960a",
   "metadata": {
    "tags": []
   },
   "outputs": [
    {
     "data": {
      "text/plain": [
       "Dataset({\n",
       "    features: ['doc', 'id', 'original_text', 'reference_summary', 'title', 'uid', 'case_code', 'case_text', 'note', 'title_code', 'title_text', 'urls', 'tldr_code', 'tldr_text'],\n",
       "    num_rows: 446\n",
       "})"
      ]
     },
     "execution_count": 34,
     "metadata": {},
     "output_type": "execute_result"
    }
   ],
   "source": [
    "dataset"
   ]
  },
  {
   "cell_type": "code",
   "execution_count": 35,
   "id": "402b82d4-5588-473e-853e-9a47ab0b3e5b",
   "metadata": {
    "tags": []
   },
   "outputs": [
    {
     "data": {
      "text/plain": [
       "'welcome to the pokémon go video game services which are accessible via the niantic inc niantic mobile device application the app. to make these pokémon go terms of service the terms easier to read our video game services the app and our websites located at http pokemongo nianticlabs com and http www pokemongolive com the site are collectively called the services. please read carefully these terms our trainer guidelines and our privacy policy because they govern your use of our services.'"
      ]
     },
     "execution_count": 35,
     "metadata": {},
     "output_type": "execute_result"
    }
   ],
   "source": [
    "dataset['original_text'][0]"
   ]
  },
  {
   "cell_type": "markdown",
   "id": "43256044-192b-449f-8b20-4547578c24dd",
   "metadata": {
    "tags": []
   },
   "source": [
    "## Prepare documents and add to Qdrant DB"
   ]
  },
  {
   "cell_type": "code",
   "execution_count": 60,
   "id": "b799bdb4-c9a8-4bb7-bad1-10240486a909",
   "metadata": {
    "tags": []
   },
   "outputs": [],
   "source": [
    "MLLM_MODEL = \"multilingual-22-12\"\n",
    "\n",
    "legal_docs = dataset['original_text']\n",
    "\n",
    "legal_doc_response = cohere_client.embed(\n",
    "    texts=legal_docs,\n",
    "    model=MLLM_MODEL,\n",
    ")\n",
    "vectors = [list(map(float, vector)) for vector in legal_doc_response.embeddings]\n",
    "ids = [id for id,entry in enumerate(legal_docs)]"
   ]
  },
  {
   "cell_type": "code",
   "execution_count": 61,
   "id": "8d1cf70c-739f-43ae-adce-31ce04029085",
   "metadata": {
    "tags": []
   },
   "outputs": [
    {
     "data": {
      "text/plain": [
       "UpdateResult(operation_id=0, status=<UpdateStatus.COMPLETED: 'completed'>)"
      ]
     },
     "execution_count": 61,
     "metadata": {},
     "output_type": "execute_result"
    }
   ],
   "source": [
    "qdrant_client.upsert(\n",
    "    collection_name=\"legal_qa\", \n",
    "    points=rest.Batch(\n",
    "        ids=ids,\n",
    "        vectors=vectors,\n",
    "        payloads=list(dataset),\n",
    "    )\n",
    ")"
   ]
  },
  {
   "cell_type": "markdown",
   "id": "00fe5195-3946-4429-bfe9-78fc2239e500",
   "metadata": {
    "tags": []
   },
   "source": [
    "## Prepare Query Embedding and perform search on Qdrant Collection"
   ]
  },
  {
   "cell_type": "code",
   "execution_count": 55,
   "id": "31424bff-748a-4d65-9f01-6b470ecffc7e",
   "metadata": {},
   "outputs": [],
   "source": [
    "query_embeddings = cohere_client.embed(\n",
    "    texts=[\"I am 12 years old, can I play Pokemon go?\"],\n",
    "    model=MLLM_MODEL,\n",
    ")"
   ]
  },
  {
   "cell_type": "code",
   "execution_count": 62,
   "id": "f44cab9a-fdb0-4617-a4a0-1abedc446ac8",
   "metadata": {
    "tags": []
   },
   "outputs": [],
   "source": [
    "result = qdrant_client.search(\n",
    "    collection_name=\"legal_qa\",\n",
    "    query_filter=models.Filter(\n",
    "        must=[\n",
    "            models.FieldCondition(\n",
    "                key=\"doc\",\n",
    "                match=models.MatchValue(\n",
    "                    value=\"Pokemon GO Terms of Service\",\n",
    "                ),\n",
    "            )\n",
    "        ]\n",
    "    ),\n",
    "    search_params=models.SearchParams(\n",
    "        hnsw_ef=128,\n",
    "        exact=False\n",
    "    ),\n",
    "    query_vector=query_embeddings.embeddings[0],\n",
    "    limit=3,\n",
    ")"
   ]
  },
  {
   "cell_type": "code",
   "execution_count": 68,
   "id": "c830d24c-2414-41c2-9534-56d453b40dc7",
   "metadata": {
    "tags": []
   },
   "outputs": [
    {
     "data": {
      "text/plain": [
       "'welcome to the pokémon go video game services which are accessible via the niantic inc niantic mobile device application the app. to make these pokémon go terms of service the terms easier to read our video game services the app and our websites located at http pokemongo nianticlabs com and http www pokemongolive com the site are collectively called the services. please read carefully these terms our trainer guidelines and our privacy policy because they govern your use of our services.'"
      ]
     },
     "execution_count": 68,
     "metadata": {},
     "output_type": "execute_result"
    }
   ],
   "source": [
    "result[0].payload['original_text']"
   ]
  },
  {
   "cell_type": "code",
   "execution_count": 69,
   "id": "dd2a2ab4-501d-4dca-bf55-03056ee7e19d",
   "metadata": {},
   "outputs": [
    {
     "data": {
      "text/plain": [
       "3"
      ]
     },
     "execution_count": 69,
     "metadata": {},
     "output_type": "execute_result"
    }
   ],
   "source": [
    "len(result)"
   ]
  },
  {
   "cell_type": "code",
   "execution_count": null,
   "id": "55fa3f11-e340-4e13-9f07-ca764462ce28",
   "metadata": {},
   "outputs": [],
   "source": []
  }
 ],
 "metadata": {
  "kernelspec": {
   "display_name": "Python 3 (ipykernel)",
   "language": "python",
   "name": "python3"
  },
  "language_info": {
   "codemirror_mode": {
    "name": "ipython",
    "version": 3
   },
   "file_extension": ".py",
   "mimetype": "text/x-python",
   "name": "python",
   "nbconvert_exporter": "python",
   "pygments_lexer": "ipython3",
   "version": "3.9.16"
  }
 },
 "nbformat": 4,
 "nbformat_minor": 5
}
